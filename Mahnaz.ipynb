{
 "cells": [
  {
   "cell_type": "code",
   "execution_count": null,
   "metadata": {},
   "outputs": [],
   "source": [
    "import pandas as pd\n",
    "import numpy as np\n",
    "from pandas import Series, DataFrame\n",
    "import matplotlib.pyplot as plt\n",
    "%matplotlib inline\n",
    "import seaborn as sns"
   ]
  },
  {
   "cell_type": "code",
   "execution_count": null,
   "metadata": {},
   "outputs": [],
   "source": [
    "train_df = pd.read_csv('/Users/Optimus/Downloads/train.csv') \n",
    "test_df = pd.read_csv('/Users/Optimus/Downloads/test.csv') "
   ]
  },
  {
   "cell_type": "code",
   "execution_count": null,
   "metadata": {},
   "outputs": [],
   "source": [
    "train_df.head()"
   ]
  },
  {
   "cell_type": "code",
   "execution_count": null,
   "metadata": {},
   "outputs": [],
   "source": [
    "test_df.head()"
   ]
  },
  {
   "cell_type": "code",
   "execution_count": null,
   "metadata": {},
   "outputs": [],
   "source": [
    "plt.figure(figsize=(10,8))\n",
    "train_df['Age'].hist(bins=100)\n",
    "plt.title('Age Distribution of Passengers')\n",
    "plt.xlabel('Age')\n",
    "plt.ylabel('Number of Passenger')\n",
    "plt.show()"
   ]
  },
  {
   "cell_type": "code",
   "execution_count": null,
   "metadata": {},
   "outputs": [],
   "source": [
    "plt.figure()\n",
    "plt.scatter(train_df['Survived'], train_df.Age, alpha=.55)\n",
    "plt.ylabel('Age')\n",
    "plt.xlabel('Survived')\n",
    "plt.grid(b=True, which='both', axis='y')\n",
    "plt.title('Survived by Age (1=Survived)')\n",
    "plt.show()"
   ]
  },
  {
   "cell_type": "code",
   "execution_count": null,
   "metadata": {},
   "outputs": [],
   "source": [
    "train_df.head()"
   ]
  },
  {
   "cell_type": "code",
   "execution_count": null,
   "metadata": {},
   "outputs": [],
   "source": [
    "plt.figure(figsize=(8,6))\n",
    "train_df['Survived'].value_counts().plot(kind='barh', color='blue', alpha=.65)\n",
    "plt.title('Survival Breakdown (1=Survived, 0=Died)')\n",
    "plt.show()"
   ]
  },
  {
   "cell_type": "code",
   "execution_count": null,
   "metadata": {},
   "outputs": [],
   "source": [
    "plt.figure(figsize=(8,6))\n",
    "train_df['Pclass'].value_counts().plot(kind='barh', color='#df42d1', alpha=.65)\n",
    "plt.title('Class Distribution')\n",
    "plt.show()"
   ]
  },
  {
   "cell_type": "code",
   "execution_count": null,
   "metadata": {},
   "outputs": [],
   "source": [
    "plt.figure(figsize=(8,6))\n",
    "train_df['Embarked'].value_counts().plot(kind='bar', color='#0f82d9', alpha=.5)\n",
    "plt.title('Emarked Distribution')\n",
    "plt.show()"
   ]
  },
  {
   "cell_type": "code",
   "execution_count": null,
   "metadata": {},
   "outputs": [],
   "source": [
    "def load_titanic_train_file():\n",
    "    titanic_train_df = pd.read_csv('/Users/Optimus/Downloads/train.csv')\n",
    "    cols=['Pclass', 'Sex', 'Age']\n",
    "    titanic_train_df['Sex'] = titanic_train_df['Sex'].apply(lambda sex: 1 if 'male' else 0)   # لامبدا مهمترین فانکشنی است که مقادیر توصیفی را بع عددی تبدی می کند\n",
    "    titanic_train_df['Age'] = titanic_train_df['Age'].fillna(titanic_train_df['Age'].mean())   # فیل نال این کن هر جا خالی است پر  کن با استفاده از میانگین\n",
    "    titanic_train_df['Fare'] = titanic_train_df['Fare'].fillna(titanic_train_df['Fare'].mean())\n",
    "    survived = titanic_train_df['Survived'].values\n",
    "    data = titanic_train_df[cols].values\n",
    "    return survived, data\n",
    "\n",
    "    "
   ]
  },
  {
   "cell_type": "code",
   "execution_count": null,
   "metadata": {},
   "outputs": [],
   "source": [
    "def load_titanic_test_file():\n",
    "    titanic_train_df = pd.read_csv('/Users/Optimus/Downloads/test.csv')\n",
    "    cols=['Pclass', 'Sex', 'Age']\n",
    "    titanic_train_df['Sex'] = titanic_train_df['Sex'].apply(lambda sex: 1 if 'male' else 0)\n",
    "    titanic_train_df['Age'] = titanic_train_df['Age'].fillna(titanic_train_df['Age'].mean())\n",
    "    titanic_train_df['Fare'] = titanic_train_df['Fare'].fillna(titanic_train_df['Fare'].mean())\n",
    "    data = titanic_train_df[cols].values\n",
    "    return data\n",
    "\n",
    "    "
   ]
  },
  {
   "cell_type": "code",
   "execution_count": null,
   "metadata": {},
   "outputs": [],
   "source": [
    "survived , data_train = load_titanic_train_file()\n",
    "data_test = load_titanic_test_file()"
   ]
  },
  {
   "cell_type": "markdown",
   "metadata": {},
   "source": [
    "# Machine Learning: Model Training"
   ]
  },
  {
   "cell_type": "code",
   "execution_count": null,
   "metadata": {},
   "outputs": [],
   "source": [
    "from sklearn.linear_model import LogisticRegression  # چون داده ها عددی است لوچستیک ریگرشن باید بیاید ولی اگر داده ها توصیفی بود مث اره یا نه مثل تست سرطان باید لینیر ریگرشن میامد\n",
    "model = LogisticRegression()"
   ]
  },
  {
   "cell_type": "code",
   "execution_count": null,
   "metadata": {},
   "outputs": [],
   "source": [
    "model.fit(data_train, survived)"
   ]
  },
  {
   "cell_type": "code",
   "execution_count": null,
   "metadata": {},
   "outputs": [],
   "source": [
    "preditc = model.predict(data_test)"
   ]
  },
  {
   "cell_type": "code",
   "execution_count": null,
   "metadata": {},
   "outputs": [],
   "source": [
    "preditc"
   ]
  },
  {
   "cell_type": "code",
   "execution_count": null,
   "metadata": {},
   "outputs": [],
   "source": [
    "new_test_prediction_set = [[1,1,22], [2,1,12],[1,0,38],[2,0,45], [1,1,65]]"
   ]
  },
  {
   "cell_type": "code",
   "execution_count": null,
   "metadata": {},
   "outputs": [],
   "source": [
    "model.predict(new_test_prediction_set)"
   ]
  },
  {
   "cell_type": "code",
   "execution_count": null,
   "metadata": {},
   "outputs": [],
   "source": [
    "import pickle as pkl  # پیکل اینست که فانکشن را به لایبرری تبدیل می کند که همیشه در دسترس باشد"
   ]
  },
  {
   "cell_type": "code",
   "execution_count": null,
   "metadata": {},
   "outputs": [],
   "source": [
    "persist_model = pkl.dumps(model)  "
   ]
  },
  {
   "cell_type": "code",
   "execution_count": null,
   "metadata": {},
   "outputs": [],
   "source": [
    "persist_model"
   ]
  },
  {
   "cell_type": "code",
   "execution_count": null,
   "metadata": {},
   "outputs": [],
   "source": [
    "from sklearn.externals import joblib     # جاب لیب مهمترین است که تبدیل به لایبرری می کند\n",
    "joblib.dump(model,'regModel.pkl')"
   ]
  },
  {
   "cell_type": "code",
   "execution_count": null,
   "metadata": {},
   "outputs": [],
   "source": [
    "new_model = joblib.load('regModel.pkl')"
   ]
  },
  {
   "cell_type": "code",
   "execution_count": null,
   "metadata": {},
   "outputs": [],
   "source": [
    "new_model.predict(new_test_prediction_set)"
   ]
  },
  {
   "cell_type": "code",
   "execution_count": null,
   "metadata": {},
   "outputs": [],
   "source": [
    "new_model.predict([[2,1,45]])"
   ]
  },
  {
   "cell_type": "code",
   "execution_count": null,
   "metadata": {},
   "outputs": [],
   "source": [
    "# sensorinput = input(sensorTempreture)\n",
    "# for x in sensorinput:\n",
    "#     if ali(x) > 70:\n",
    "#         print('dangeres')"
   ]
  },
  {
   "cell_type": "code",
   "execution_count": null,
   "metadata": {},
   "outputs": [],
   "source": []
  },
  {
   "cell_type": "code",
   "execution_count": null,
   "metadata": {},
   "outputs": [],
   "source": []
  },
  {
   "cell_type": "code",
   "execution_count": null,
   "metadata": {},
   "outputs": [],
   "source": []
  },
  {
   "cell_type": "code",
   "execution_count": null,
   "metadata": {},
   "outputs": [],
   "source": []
  },
  {
   "cell_type": "code",
   "execution_count": null,
   "metadata": {},
   "outputs": [],
   "source": []
  }
 ],
 "metadata": {
  "kernelspec": {
   "display_name": "Python 3",
   "language": "python",
   "name": "python3"
  },
  "language_info": {
   "codemirror_mode": {
    "name": "ipython",
    "version": 3
   },
   "file_extension": ".py",
   "mimetype": "text/x-python",
   "name": "python",
   "nbconvert_exporter": "python",
   "pygments_lexer": "ipython3",
   "version": "3.7.3"
  }
 },
 "nbformat": 4,
 "nbformat_minor": 4
}
